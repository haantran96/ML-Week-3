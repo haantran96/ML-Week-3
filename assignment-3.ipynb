{
 "cells": [
  {
   "cell_type": "code",
   "execution_count": 43,
   "metadata": {},
   "outputs": [],
   "source": [
    "import pandas as pd\n",
    "import numpy as np\n",
    "from sklearn import preprocessing, cross_validation, neighbors, metrics, svm\n",
    "from sklearn.svm import SVC\n",
    "from sklearn.linear_model import LogisticRegression\n",
    "from sklearn.ensemble import RandomForestClassifier\n",
    "from sklearn.neighbors import KNeighborsClassifier\n",
    "\n",
    "songs_dataset = pd.read_json('MasterSongList.json')"
   ]
  },
  {
   "cell_type": "code",
   "execution_count": 2,
   "metadata": {},
   "outputs": [
    {
     "data": {
      "text/plain": [
       "(36733, 16)"
      ]
     },
     "execution_count": 2,
     "metadata": {},
     "output_type": "execute_result"
    }
   ],
   "source": [
    "songs_dataset.head()\n",
    "songs_dataset.shape"
   ]
  },
  {
   "cell_type": "code",
   "execution_count": 3,
   "metadata": {},
   "outputs": [],
   "source": [
    "songs_dataset = songs_dataset.loc[songs_dataset['lyrics_features'].str.len() != 0]"
   ]
  },
  {
   "cell_type": "markdown",
   "metadata": {},
   "source": [
    "create a Dataframe that contains only moods and lyrics features"
   ]
  },
  {
   "cell_type": "code",
   "execution_count": 4,
   "metadata": {},
   "outputs": [
    {
     "data": {
      "text/plain": [
       "(20931, 2)"
      ]
     },
     "execution_count": 4,
     "metadata": {},
     "output_type": "execute_result"
    }
   ],
   "source": [
    "df_lyrics = songs_dataset[['lyrics_features','moods']].copy()\n",
    "df_lyrics.loc[:,'lyrics_features'] = df_lyrics['lyrics_features'].apply(' '.join)\n",
    "df_lyrics = df_lyrics.reset_index(drop=True)\n",
    "df_lyrics.shape"
   ]
  },
  {
   "cell_type": "markdown",
   "metadata": {},
   "source": [
    " clean the lyrics:"
   ]
  },
  {
   "cell_type": "code",
   "execution_count": 5,
   "metadata": {},
   "outputs": [],
   "source": [
    "import string\n",
    "from string import punctuation\n",
    "from sklearn.feature_extraction.stop_words import ENGLISH_STOP_WORDS\n",
    "from nltk.stem.snowball import SnowballStemmer\n",
    "\n",
    "translator = str.maketrans('', '', punctuation)\n",
    "stemmer = SnowballStemmer('english')\n",
    "def clean_words(raw_text):\n",
    "    raw_text = raw_text.lower()\n",
    "    raw_text = raw_text.translate(translator)\n",
    "    split_words = raw_text.split()\n",
    "\n",
    "    stemmed_word = [stemmer.stem(word) for word in split_words if word not in ENGLISH_STOP_WORDS]\n",
    "    return ' '.join(stemmed_word)   "
   ]
  },
  {
   "cell_type": "code",
   "execution_count": 6,
   "metadata": {},
   "outputs": [
    {
     "data": {
      "text/plain": [
       "0    oppa gangnam style gangnam style najeneun ttas...\n",
       "1    late ve ve lose sleep dream thing babi ve ve p...\n",
       "2    parti rock yeah woo let s parti rock hous toni...\n",
       "3    alagamun lan weh wakun heya hanun gon alagamun...\n",
       "4    j lo s new generat mr worldwid parti peopl flo...\n",
       "5    today don t feel like do just wanna lay bed do...\n",
       "6    s start heart reach fever pitch s bring dark f...\n",
       "7    threw wish don t ask ll tell look fell way tra...\n",
       "8    think like said felt happi die told right felt...\n",
       "9    don t know turn head walk o don t need make co...\n",
       "Name: lyrics_features, dtype: object"
      ]
     },
     "execution_count": 6,
     "metadata": {},
     "output_type": "execute_result"
    }
   ],
   "source": [
    "cleaned_lyrics = df_lyrics.loc[:,'lyrics_features'].apply(clean_words)\n",
    "cleaned_lyrics.head(10)"
   ]
  },
  {
   "cell_type": "code",
   "execution_count": 7,
   "metadata": {},
   "outputs": [],
   "source": [
    "df_lyrics['cleaned_lyrics'] = cleaned_lyrics"
   ]
  },
  {
   "cell_type": "markdown",
   "metadata": {},
   "source": [
    "Here, I create a new series that contains celebratory and sad moods"
   ]
  },
  {
   "cell_type": "code",
   "execution_count": 8,
   "metadata": {},
   "outputs": [],
   "source": [
    "new_mood = []\n",
    "for mood in df_lyrics['moods']:\n",
    "    if 'celebratory' in mood:\n",
    "        new_mood.append('celebratory')\n",
    "    elif 'sad' in mood:\n",
    "        new_mood.append('sad')\n",
    "    else:\n",
    "        new_mood.append(mood)\n",
    "df_lyrics['new_mood'] = new_mood"
   ]
  },
  {
   "cell_type": "markdown",
   "metadata": {},
   "source": [
    "New DataFrame that contains only 'celebratory' and 'sad' moods"
   ]
  },
  {
   "cell_type": "code",
   "execution_count": 9,
   "metadata": {},
   "outputs": [
    {
     "data": {
      "text/html": [
       "<div>\n",
       "<table border=\"1\" class=\"dataframe\">\n",
       "  <thead>\n",
       "    <tr style=\"text-align: right;\">\n",
       "      <th></th>\n",
       "      <th>lyrics_features</th>\n",
       "      <th>moods</th>\n",
       "      <th>cleaned_lyrics</th>\n",
       "      <th>new_mood</th>\n",
       "    </tr>\n",
       "  </thead>\n",
       "  <tbody>\n",
       "    <tr>\n",
       "      <th>2</th>\n",
       "      <td>party rock yeah woo let s go party rock is in ...</td>\n",
       "      <td>[happy, celebratory, rowdy]</td>\n",
       "      <td>parti rock yeah woo let s parti rock hous toni...</td>\n",
       "      <td>celebratory</td>\n",
       "    </tr>\n",
       "    <tr>\n",
       "      <th>3</th>\n",
       "      <td>alagamun lan weh wakun heya hanun gon alagamun...</td>\n",
       "      <td>[happy, energetic, celebratory]</td>\n",
       "      <td>alagamun lan weh wakun heya hanun gon alagamun...</td>\n",
       "      <td>celebratory</td>\n",
       "    </tr>\n",
       "    <tr>\n",
       "      <th>9</th>\n",
       "      <td>don t know what for you re turning heads when ...</td>\n",
       "      <td>[happy, celebratory]</td>\n",
       "      <td>don t know turn head walk o don t need make co...</td>\n",
       "      <td>celebratory</td>\n",
       "    </tr>\n",
       "    <tr>\n",
       "      <th>11</th>\n",
       "      <td>shine bright like a diamond shine bright like ...</td>\n",
       "      <td>[energetic, celebratory]</td>\n",
       "      <td>shine bright like diamond shine bright like di...</td>\n",
       "      <td>celebratory</td>\n",
       "    </tr>\n",
       "    <tr>\n",
       "      <th>12</th>\n",
       "      <td>do you ever feel like a plastic bag drifting t...</td>\n",
       "      <td>[happy, celebratory, campy]</td>\n",
       "      <td>feel like plastic bag drift wind want start fe...</td>\n",
       "      <td>celebratory</td>\n",
       "    </tr>\n",
       "    <tr>\n",
       "      <th>15</th>\n",
       "      <td>ohh ohh ohh ohh ohh oh her eyes her eyes make ...</td>\n",
       "      <td>[happy, celebratory]</td>\n",
       "      <td>ohh ohh ohh ohh ohh oh eye eye make star look ...</td>\n",
       "      <td>celebratory</td>\n",
       "    </tr>\n",
       "    <tr>\n",
       "      <th>19</th>\n",
       "      <td>this one is for the boys with the boomin syste...</td>\n",
       "      <td>[happy, celebratory]</td>\n",
       "      <td>boy boomin ac coolin come club blazin got stac...</td>\n",
       "      <td>celebratory</td>\n",
       "    </tr>\n",
       "    <tr>\n",
       "      <th>20</th>\n",
       "      <td>bring the action when you hear this in the clu...</td>\n",
       "      <td>[happy, energetic, celebratory]</td>\n",
       "      <td>bring action hear club gotta turn shit gotta t...</td>\n",
       "      <td>celebratory</td>\n",
       "    </tr>\n",
       "    <tr>\n",
       "      <th>21</th>\n",
       "      <td>me not working hard yea right picture that wit...</td>\n",
       "      <td>[energetic, celebratory]</td>\n",
       "      <td>work hard yea right pictur kodak better time s...</td>\n",
       "      <td>celebratory</td>\n",
       "    </tr>\n",
       "    <tr>\n",
       "      <th>22</th>\n",
       "      <td>i hopped off the plane at lax with my dreams i...</td>\n",
       "      <td>[happy, celebratory]</td>\n",
       "      <td>hop plane lax dream cart welcom land fame xx g...</td>\n",
       "      <td>celebratory</td>\n",
       "    </tr>\n",
       "    <tr>\n",
       "      <th>23</th>\n",
       "      <td>oh na na what s my name oh na na what s my nam...</td>\n",
       "      <td>[happy, celebratory, campy]</td>\n",
       "      <td>oh na na s oh na na s oh na na s oh na na s oh...</td>\n",
       "      <td>celebratory</td>\n",
       "    </tr>\n",
       "    <tr>\n",
       "      <th>26</th>\n",
       "      <td>seems like everybody s got a price i wonder ho...</td>\n",
       "      <td>[happy, celebratory]</td>\n",
       "      <td>like everybodi s got price wonder sleep night ...</td>\n",
       "      <td>celebratory</td>\n",
       "    </tr>\n",
       "    <tr>\n",
       "      <th>28</th>\n",
       "      <td>la la la la la la la la la la la la uh yeah la...</td>\n",
       "      <td>[happy, celebratory, campy]</td>\n",
       "      <td>la la la la la la la la la la la la uh yeah la...</td>\n",
       "      <td>celebratory</td>\n",
       "    </tr>\n",
       "    <tr>\n",
       "      <th>29</th>\n",
       "      <td>all the single ladies all the single ladies al...</td>\n",
       "      <td>[happy, celebratory]</td>\n",
       "      <td>singl ladi singl ladi singl ladi singl ladi si...</td>\n",
       "      <td>celebratory</td>\n",
       "    </tr>\n",
       "    <tr>\n",
       "      <th>35</th>\n",
       "      <td>shout to all my lost boys sh sh sh sh sh shout...</td>\n",
       "      <td>[celebratory]</td>\n",
       "      <td>shout lost boy sh sh sh sh sh shout lost boy r...</td>\n",
       "      <td>celebratory</td>\n",
       "    </tr>\n",
       "    <tr>\n",
       "      <th>45</th>\n",
       "      <td>i remember when we broke up the first time say...</td>\n",
       "      <td>[happy, celebratory, rowdy]</td>\n",
       "      <td>rememb broke time say ve caus like hadn t seen...</td>\n",
       "      <td>celebratory</td>\n",
       "    </tr>\n",
       "    <tr>\n",
       "      <th>48</th>\n",
       "      <td>come here rude boy boy can you get it up come ...</td>\n",
       "      <td>[happy, celebratory]</td>\n",
       "      <td>come rude boy boy come rude boy boy big yeah b...</td>\n",
       "      <td>celebratory</td>\n",
       "    </tr>\n",
       "    <tr>\n",
       "      <th>62</th>\n",
       "      <td>it s only a movie it s not funny you scared we...</td>\n",
       "      <td>[energetic, celebratory]</td>\n",
       "      <td>s movi s funni scare weren t wasn t scare yes ...</td>\n",
       "      <td>celebratory</td>\n",
       "    </tr>\n",
       "    <tr>\n",
       "      <th>65</th>\n",
       "      <td>wake up in the mornin feelin like p diddy hey ...</td>\n",
       "      <td>[happy, celebratory, rowdy]</td>\n",
       "      <td>wake mornin feelin like p diddi hey s girl gra...</td>\n",
       "      <td>celebratory</td>\n",
       "    </tr>\n",
       "    <tr>\n",
       "      <th>77</th>\n",
       "      <td>i always needed time on my own i never thought...</td>\n",
       "      <td>[sad]</td>\n",
       "      <td>need time thought d need day feel like year m ...</td>\n",
       "      <td>sad</td>\n",
       "    </tr>\n",
       "    <tr>\n",
       "      <th>78</th>\n",
       "      <td>so what we get drunk so what we smoke weed we ...</td>\n",
       "      <td>[energetic, celebratory]</td>\n",
       "      <td>drunk smoke weed just have fun don t care see ...</td>\n",
       "      <td>celebratory</td>\n",
       "    </tr>\n",
       "    <tr>\n",
       "      <th>79</th>\n",
       "      <td>i wanna be a billionaire so fuckin bad buy all...</td>\n",
       "      <td>[happy, celebratory]</td>\n",
       "      <td>wanna billionair fuckin bad buy thing wanna co...</td>\n",
       "      <td>celebratory</td>\n",
       "    </tr>\n",
       "    <tr>\n",
       "      <th>90</th>\n",
       "      <td>i m feeling sexy and free like glitter s raini...</td>\n",
       "      <td>[happy, celebratory]</td>\n",
       "      <td>m feel sexi free like glitter s rain like shot...</td>\n",
       "      <td>celebratory</td>\n",
       "    </tr>\n",
       "    <tr>\n",
       "      <th>92</th>\n",
       "      <td>greetings loved ones let s take a journey i kn...</td>\n",
       "      <td>[happy, celebratory]</td>\n",
       "      <td>greet love one let s journey know place grass ...</td>\n",
       "      <td>celebratory</td>\n",
       "    </tr>\n",
       "    <tr>\n",
       "      <th>96</th>\n",
       "      <td>bring the beat in honey honey i can see the st...</td>\n",
       "      <td>[happy, celebratory]</td>\n",
       "      <td>bring beat honey honey star way t glow window ...</td>\n",
       "      <td>celebratory</td>\n",
       "    </tr>\n",
       "    <tr>\n",
       "      <th>97</th>\n",
       "      <td>ohh how bout a round of applause yeah standin ...</td>\n",
       "      <td>[happy, celebratory]</td>\n",
       "      <td>ohh bout round applaus yeah standin ovat oh ye...</td>\n",
       "      <td>celebratory</td>\n",
       "    </tr>\n",
       "    <tr>\n",
       "      <th>99</th>\n",
       "      <td>ay payita mía guárdate la poesía guárdate la a...</td>\n",
       "      <td>[cocky, celebratory, rowdy]</td>\n",
       "      <td>ay payita mía guárdat la poesía guárdat la ale...</td>\n",
       "      <td>celebratory</td>\n",
       "    </tr>\n",
       "    <tr>\n",
       "      <th>102</th>\n",
       "      <td>i follow the moskva and down to gorky park lis...</td>\n",
       "      <td>[sad]</td>\n",
       "      <td>follow moskva gorki park listen wind chang aug...</td>\n",
       "      <td>sad</td>\n",
       "    </tr>\n",
       "    <tr>\n",
       "      <th>107</th>\n",
       "      <td>you can t touch this you can t touch this you ...</td>\n",
       "      <td>[energetic, celebratory]</td>\n",
       "      <td>t touch t touch t touch oh oh oh oh oh oh oh t...</td>\n",
       "      <td>celebratory</td>\n",
       "    </tr>\n",
       "    <tr>\n",
       "      <th>112</th>\n",
       "      <td>you know i know how to make em stop and stare ...</td>\n",
       "      <td>[celebratory]</td>\n",
       "      <td>know know make em stop stare zone club t handl...</td>\n",
       "      <td>celebratory</td>\n",
       "    </tr>\n",
       "    <tr>\n",
       "      <th>...</th>\n",
       "      <td>...</td>\n",
       "      <td>...</td>\n",
       "      <td>...</td>\n",
       "      <td>...</td>\n",
       "    </tr>\n",
       "    <tr>\n",
       "      <th>20617</th>\n",
       "      <td>i ve been down where the weeping willows want ...</td>\n",
       "      <td>[introspective, sad, mellow]</td>\n",
       "      <td>ve weep willow want drop tear lake know s best...</td>\n",
       "      <td>sad</td>\n",
       "    </tr>\n",
       "    <tr>\n",
       "      <th>20618</th>\n",
       "      <td>stomp stomp them grapes and make that wine put...</td>\n",
       "      <td>[celebratory]</td>\n",
       "      <td>stomp stomp grape make wine bottl boy ship lin...</td>\n",
       "      <td>celebratory</td>\n",
       "    </tr>\n",
       "    <tr>\n",
       "      <th>20652</th>\n",
       "      <td>here you are again another stupid party again ...</td>\n",
       "      <td>[soothing, sad]</td>\n",
       "      <td>stupid parti celebr eye follow king queen zoo ...</td>\n",
       "      <td>sad</td>\n",
       "    </tr>\n",
       "    <tr>\n",
       "      <th>20660</th>\n",
       "      <td>the garden sliding past is overwhelming recedi...</td>\n",
       "      <td>[gloomy, introspective, sad]</td>\n",
       "      <td>garden slide past overwhelm reced unreal windo...</td>\n",
       "      <td>sad</td>\n",
       "    </tr>\n",
       "    <tr>\n",
       "      <th>20663</th>\n",
       "      <td>me de a sua mao e o seu amor e o seu amor chor...</td>\n",
       "      <td>[celebratory]</td>\n",
       "      <td>sua mao e o seu amor e o seu amor chorando se ...</td>\n",
       "      <td>celebratory</td>\n",
       "    </tr>\n",
       "    <tr>\n",
       "      <th>20689</th>\n",
       "      <td>all the stories you can hold to fill your week...</td>\n",
       "      <td>[atmospheric, sad, nocturnal]</td>\n",
       "      <td>stori hold week eager soul calendar week day c...</td>\n",
       "      <td>sad</td>\n",
       "    </tr>\n",
       "    <tr>\n",
       "      <th>20690</th>\n",
       "      <td>john durrill snuf carret memories and drinks d...</td>\n",
       "      <td>[celebratory]</td>\n",
       "      <td>john durril snuf carret memori drink don t mix...</td>\n",
       "      <td>celebratory</td>\n",
       "    </tr>\n",
       "    <tr>\n",
       "      <th>20697</th>\n",
       "      <td>can i change my mind see long ago you left me ...</td>\n",
       "      <td>[sad, nocturnal]</td>\n",
       "      <td>chang mind long ago left think listen said lif...</td>\n",
       "      <td>sad</td>\n",
       "    </tr>\n",
       "    <tr>\n",
       "      <th>20698</th>\n",
       "      <td>you started talking soon as i sat down giving ...</td>\n",
       "      <td>[celebratory]</td>\n",
       "      <td>start talk soon sat give tip love say good loo...</td>\n",
       "      <td>celebratory</td>\n",
       "    </tr>\n",
       "    <tr>\n",
       "      <th>20699</th>\n",
       "      <td>river river river river river of life river ri...</td>\n",
       "      <td>[introspective, sad, mellow]</td>\n",
       "      <td>river river river river river life river river...</td>\n",
       "      <td>sad</td>\n",
       "    </tr>\n",
       "    <tr>\n",
       "      <th>20702</th>\n",
       "      <td>i used to ride my bike down the street three m...</td>\n",
       "      <td>[introspective, sad, lush]</td>\n",
       "      <td>use ride bike street mile thought twice caus e...</td>\n",
       "      <td>sad</td>\n",
       "    </tr>\n",
       "    <tr>\n",
       "      <th>20707</th>\n",
       "      <td>he takes his dinner in the bed love sickened a...</td>\n",
       "      <td>[introspective, sad, mellow]</td>\n",
       "      <td>take dinner bed love sicken infirm order fille...</td>\n",
       "      <td>sad</td>\n",
       "    </tr>\n",
       "    <tr>\n",
       "      <th>20709</th>\n",
       "      <td>now all is been told like all is before it mat...</td>\n",
       "      <td>[cold, atmospheric, sad]</td>\n",
       "      <td>told like matter matter said like time send ll...</td>\n",
       "      <td>sad</td>\n",
       "    </tr>\n",
       "    <tr>\n",
       "      <th>20726</th>\n",
       "      <td>stop that crying you re better off smiling hey...</td>\n",
       "      <td>[atmospheric, sad]</td>\n",
       "      <td>stop cri better smile hey make day don t liste...</td>\n",
       "      <td>sad</td>\n",
       "    </tr>\n",
       "    <tr>\n",
       "      <th>20735</th>\n",
       "      <td>here s another song about an old hotel a place...</td>\n",
       "      <td>[introspective, sad, mellow]</td>\n",
       "      <td>s song old hotel place rise place fell lost so...</td>\n",
       "      <td>sad</td>\n",
       "    </tr>\n",
       "    <tr>\n",
       "      <th>20739</th>\n",
       "      <td>in the morning there s a victory for i claimed...</td>\n",
       "      <td>[introspective, sad, mellow]</td>\n",
       "      <td>morn s victori claim night s just notch carv b...</td>\n",
       "      <td>sad</td>\n",
       "    </tr>\n",
       "    <tr>\n",
       "      <th>20764</th>\n",
       "      <td>every man needs a tit to suckle but some days ...</td>\n",
       "      <td>[gloomy, introspective, sad]</td>\n",
       "      <td>man need tit suckl day m sure leg just buckl g...</td>\n",
       "      <td>sad</td>\n",
       "    </tr>\n",
       "    <tr>\n",
       "      <th>20776</th>\n",
       "      <td>and now the purple dusk of twilight time steal...</td>\n",
       "      <td>[seductive, sad, classy, nocturnal, mellow]</td>\n",
       "      <td>purpl dusk twilight time steal meadow heart hi...</td>\n",
       "      <td>sad</td>\n",
       "    </tr>\n",
       "    <tr>\n",
       "      <th>20780</th>\n",
       "      <td>sonata my sonata i hear your haunting theme an...</td>\n",
       "      <td>[introspective, sad, lush]</td>\n",
       "      <td>sonata sonata hear haunt theme begin dream lin...</td>\n",
       "      <td>sad</td>\n",
       "    </tr>\n",
       "    <tr>\n",
       "      <th>20788</th>\n",
       "      <td>sajde mein yun hi jhukta hoon tum pe hi aa ke ...</td>\n",
       "      <td>[celebratory]</td>\n",
       "      <td>sajd mein yun hi jhukta hoon tum pe hi aa ke r...</td>\n",
       "      <td>celebratory</td>\n",
       "    </tr>\n",
       "    <tr>\n",
       "      <th>20797</th>\n",
       "      <td>e sei que eu sou bonita e gostosa e sei que vo...</td>\n",
       "      <td>[celebratory]</td>\n",
       "      <td>e sei que eu sou bonita e gostosa e sei que vo...</td>\n",
       "      <td>celebratory</td>\n",
       "    </tr>\n",
       "    <tr>\n",
       "      <th>20800</th>\n",
       "      <td>when i was a young boy she used to come to me ...</td>\n",
       "      <td>[atmospheric, sad, nocturnal]</td>\n",
       "      <td>young boy use come night wait window just beg ...</td>\n",
       "      <td>sad</td>\n",
       "    </tr>\n",
       "    <tr>\n",
       "      <th>20851</th>\n",
       "      <td>it s only human to wonder why it s only animal...</td>\n",
       "      <td>[atmospheric, sad, nocturnal]</td>\n",
       "      <td>s human wonder s anim s anim run rock instead ...</td>\n",
       "      <td>sad</td>\n",
       "    </tr>\n",
       "    <tr>\n",
       "      <th>20875</th>\n",
       "      <td>sometimes you bring me flowers a misery it see...</td>\n",
       "      <td>[introspective, sad, mellow]</td>\n",
       "      <td>bring flower miseri don t want live day haunt ...</td>\n",
       "      <td>sad</td>\n",
       "    </tr>\n",
       "    <tr>\n",
       "      <th>20885</th>\n",
       "      <td>ê o amor o camaleão se apaixonou trocou sua pe...</td>\n",
       "      <td>[celebratory]</td>\n",
       "      <td>ê o amor o camaleão se apaixonou trocou sua pe...</td>\n",
       "      <td>celebratory</td>\n",
       "    </tr>\n",
       "    <tr>\n",
       "      <th>20890</th>\n",
       "      <td>the sun will shine i won t hide the sun will s...</td>\n",
       "      <td>[gloomy, soothing, sad, mellow]</td>\n",
       "      <td>sun shine won t hide sun shine won t hide sun ...</td>\n",
       "      <td>sad</td>\n",
       "    </tr>\n",
       "    <tr>\n",
       "      <th>20896</th>\n",
       "      <td>ba pra mim baiana pra mim ar pra mim água pra ...</td>\n",
       "      <td>[celebratory]</td>\n",
       "      <td>ba pra mim baiana pra mim ar pra mim água pra ...</td>\n",
       "      <td>celebratory</td>\n",
       "    </tr>\n",
       "    <tr>\n",
       "      <th>20897</th>\n",
       "      <td>鐵柺李 望酒影醉看人間 塵世太多苦痛 漢鍾離 我輕搖蒲扇別憂愁 生死掌握手中 呂洞賓 揮神劍...</td>\n",
       "      <td>[classy, sad, mellow]</td>\n",
       "      <td>鐵柺李 望酒影醉看人間 塵世太多苦痛 漢鍾離 我輕搖蒲扇別憂愁 生死掌握手中 呂洞賓 揮神劍...</td>\n",
       "      <td>sad</td>\n",
       "    </tr>\n",
       "    <tr>\n",
       "      <th>20900</th>\n",
       "      <td>an acquaintance strikes a chord he broke his o...</td>\n",
       "      <td>[sad, nocturnal]</td>\n",
       "      <td>acquaint strike chord broke old guitar couldn ...</td>\n",
       "      <td>sad</td>\n",
       "    </tr>\n",
       "    <tr>\n",
       "      <th>20922</th>\n",
       "      <td>well i ve been out here on the ledge now for s...</td>\n",
       "      <td>[gloomy, introspective, sad]</td>\n",
       "      <td>ve ledg year ve lost night sit car ve tri leav...</td>\n",
       "      <td>sad</td>\n",
       "    </tr>\n",
       "  </tbody>\n",
       "</table>\n",
       "<p>2728 rows × 4 columns</p>\n",
       "</div>"
      ],
      "text/plain": [
       "                                         lyrics_features  \\\n",
       "2      party rock yeah woo let s go party rock is in ...   \n",
       "3      alagamun lan weh wakun heya hanun gon alagamun...   \n",
       "9      don t know what for you re turning heads when ...   \n",
       "11     shine bright like a diamond shine bright like ...   \n",
       "12     do you ever feel like a plastic bag drifting t...   \n",
       "15     ohh ohh ohh ohh ohh oh her eyes her eyes make ...   \n",
       "19     this one is for the boys with the boomin syste...   \n",
       "20     bring the action when you hear this in the clu...   \n",
       "21     me not working hard yea right picture that wit...   \n",
       "22     i hopped off the plane at lax with my dreams i...   \n",
       "23     oh na na what s my name oh na na what s my nam...   \n",
       "26     seems like everybody s got a price i wonder ho...   \n",
       "28     la la la la la la la la la la la la uh yeah la...   \n",
       "29     all the single ladies all the single ladies al...   \n",
       "35     shout to all my lost boys sh sh sh sh sh shout...   \n",
       "45     i remember when we broke up the first time say...   \n",
       "48     come here rude boy boy can you get it up come ...   \n",
       "62     it s only a movie it s not funny you scared we...   \n",
       "65     wake up in the mornin feelin like p diddy hey ...   \n",
       "77     i always needed time on my own i never thought...   \n",
       "78     so what we get drunk so what we smoke weed we ...   \n",
       "79     i wanna be a billionaire so fuckin bad buy all...   \n",
       "90     i m feeling sexy and free like glitter s raini...   \n",
       "92     greetings loved ones let s take a journey i kn...   \n",
       "96     bring the beat in honey honey i can see the st...   \n",
       "97     ohh how bout a round of applause yeah standin ...   \n",
       "99     ay payita mía guárdate la poesía guárdate la a...   \n",
       "102    i follow the moskva and down to gorky park lis...   \n",
       "107    you can t touch this you can t touch this you ...   \n",
       "112    you know i know how to make em stop and stare ...   \n",
       "...                                                  ...   \n",
       "20617  i ve been down where the weeping willows want ...   \n",
       "20618  stomp stomp them grapes and make that wine put...   \n",
       "20652  here you are again another stupid party again ...   \n",
       "20660  the garden sliding past is overwhelming recedi...   \n",
       "20663  me de a sua mao e o seu amor e o seu amor chor...   \n",
       "20689  all the stories you can hold to fill your week...   \n",
       "20690  john durrill snuf carret memories and drinks d...   \n",
       "20697  can i change my mind see long ago you left me ...   \n",
       "20698  you started talking soon as i sat down giving ...   \n",
       "20699  river river river river river of life river ri...   \n",
       "20702  i used to ride my bike down the street three m...   \n",
       "20707  he takes his dinner in the bed love sickened a...   \n",
       "20709  now all is been told like all is before it mat...   \n",
       "20726  stop that crying you re better off smiling hey...   \n",
       "20735  here s another song about an old hotel a place...   \n",
       "20739  in the morning there s a victory for i claimed...   \n",
       "20764  every man needs a tit to suckle but some days ...   \n",
       "20776  and now the purple dusk of twilight time steal...   \n",
       "20780  sonata my sonata i hear your haunting theme an...   \n",
       "20788  sajde mein yun hi jhukta hoon tum pe hi aa ke ...   \n",
       "20797  e sei que eu sou bonita e gostosa e sei que vo...   \n",
       "20800  when i was a young boy she used to come to me ...   \n",
       "20851  it s only human to wonder why it s only animal...   \n",
       "20875  sometimes you bring me flowers a misery it see...   \n",
       "20885  ê o amor o camaleão se apaixonou trocou sua pe...   \n",
       "20890  the sun will shine i won t hide the sun will s...   \n",
       "20896  ba pra mim baiana pra mim ar pra mim água pra ...   \n",
       "20897  鐵柺李 望酒影醉看人間 塵世太多苦痛 漢鍾離 我輕搖蒲扇別憂愁 生死掌握手中 呂洞賓 揮神劍...   \n",
       "20900  an acquaintance strikes a chord he broke his o...   \n",
       "20922  well i ve been out here on the ledge now for s...   \n",
       "\n",
       "                                             moods  \\\n",
       "2                      [happy, celebratory, rowdy]   \n",
       "3                  [happy, energetic, celebratory]   \n",
       "9                             [happy, celebratory]   \n",
       "11                        [energetic, celebratory]   \n",
       "12                     [happy, celebratory, campy]   \n",
       "15                            [happy, celebratory]   \n",
       "19                            [happy, celebratory]   \n",
       "20                 [happy, energetic, celebratory]   \n",
       "21                        [energetic, celebratory]   \n",
       "22                            [happy, celebratory]   \n",
       "23                     [happy, celebratory, campy]   \n",
       "26                            [happy, celebratory]   \n",
       "28                     [happy, celebratory, campy]   \n",
       "29                            [happy, celebratory]   \n",
       "35                                   [celebratory]   \n",
       "45                     [happy, celebratory, rowdy]   \n",
       "48                            [happy, celebratory]   \n",
       "62                        [energetic, celebratory]   \n",
       "65                     [happy, celebratory, rowdy]   \n",
       "77                                           [sad]   \n",
       "78                        [energetic, celebratory]   \n",
       "79                            [happy, celebratory]   \n",
       "90                            [happy, celebratory]   \n",
       "92                            [happy, celebratory]   \n",
       "96                            [happy, celebratory]   \n",
       "97                            [happy, celebratory]   \n",
       "99                     [cocky, celebratory, rowdy]   \n",
       "102                                          [sad]   \n",
       "107                       [energetic, celebratory]   \n",
       "112                                  [celebratory]   \n",
       "...                                            ...   \n",
       "20617                 [introspective, sad, mellow]   \n",
       "20618                                [celebratory]   \n",
       "20652                              [soothing, sad]   \n",
       "20660                 [gloomy, introspective, sad]   \n",
       "20663                                [celebratory]   \n",
       "20689                [atmospheric, sad, nocturnal]   \n",
       "20690                                [celebratory]   \n",
       "20697                             [sad, nocturnal]   \n",
       "20698                                [celebratory]   \n",
       "20699                 [introspective, sad, mellow]   \n",
       "20702                   [introspective, sad, lush]   \n",
       "20707                 [introspective, sad, mellow]   \n",
       "20709                     [cold, atmospheric, sad]   \n",
       "20726                           [atmospheric, sad]   \n",
       "20735                 [introspective, sad, mellow]   \n",
       "20739                 [introspective, sad, mellow]   \n",
       "20764                 [gloomy, introspective, sad]   \n",
       "20776  [seductive, sad, classy, nocturnal, mellow]   \n",
       "20780                   [introspective, sad, lush]   \n",
       "20788                                [celebratory]   \n",
       "20797                                [celebratory]   \n",
       "20800                [atmospheric, sad, nocturnal]   \n",
       "20851                [atmospheric, sad, nocturnal]   \n",
       "20875                 [introspective, sad, mellow]   \n",
       "20885                                [celebratory]   \n",
       "20890              [gloomy, soothing, sad, mellow]   \n",
       "20896                                [celebratory]   \n",
       "20897                        [classy, sad, mellow]   \n",
       "20900                             [sad, nocturnal]   \n",
       "20922                 [gloomy, introspective, sad]   \n",
       "\n",
       "                                          cleaned_lyrics     new_mood  \n",
       "2      parti rock yeah woo let s parti rock hous toni...  celebratory  \n",
       "3      alagamun lan weh wakun heya hanun gon alagamun...  celebratory  \n",
       "9      don t know turn head walk o don t need make co...  celebratory  \n",
       "11     shine bright like diamond shine bright like di...  celebratory  \n",
       "12     feel like plastic bag drift wind want start fe...  celebratory  \n",
       "15     ohh ohh ohh ohh ohh oh eye eye make star look ...  celebratory  \n",
       "19     boy boomin ac coolin come club blazin got stac...  celebratory  \n",
       "20     bring action hear club gotta turn shit gotta t...  celebratory  \n",
       "21     work hard yea right pictur kodak better time s...  celebratory  \n",
       "22     hop plane lax dream cart welcom land fame xx g...  celebratory  \n",
       "23     oh na na s oh na na s oh na na s oh na na s oh...  celebratory  \n",
       "26     like everybodi s got price wonder sleep night ...  celebratory  \n",
       "28     la la la la la la la la la la la la uh yeah la...  celebratory  \n",
       "29     singl ladi singl ladi singl ladi singl ladi si...  celebratory  \n",
       "35     shout lost boy sh sh sh sh sh shout lost boy r...  celebratory  \n",
       "45     rememb broke time say ve caus like hadn t seen...  celebratory  \n",
       "48     come rude boy boy come rude boy boy big yeah b...  celebratory  \n",
       "62     s movi s funni scare weren t wasn t scare yes ...  celebratory  \n",
       "65     wake mornin feelin like p diddi hey s girl gra...  celebratory  \n",
       "77     need time thought d need day feel like year m ...          sad  \n",
       "78     drunk smoke weed just have fun don t care see ...  celebratory  \n",
       "79     wanna billionair fuckin bad buy thing wanna co...  celebratory  \n",
       "90     m feel sexi free like glitter s rain like shot...  celebratory  \n",
       "92     greet love one let s journey know place grass ...  celebratory  \n",
       "96     bring beat honey honey star way t glow window ...  celebratory  \n",
       "97     ohh bout round applaus yeah standin ovat oh ye...  celebratory  \n",
       "99     ay payita mía guárdat la poesía guárdat la ale...  celebratory  \n",
       "102    follow moskva gorki park listen wind chang aug...          sad  \n",
       "107    t touch t touch t touch oh oh oh oh oh oh oh t...  celebratory  \n",
       "112    know know make em stop stare zone club t handl...  celebratory  \n",
       "...                                                  ...          ...  \n",
       "20617  ve weep willow want drop tear lake know s best...          sad  \n",
       "20618  stomp stomp grape make wine bottl boy ship lin...  celebratory  \n",
       "20652  stupid parti celebr eye follow king queen zoo ...          sad  \n",
       "20660  garden slide past overwhelm reced unreal windo...          sad  \n",
       "20663  sua mao e o seu amor e o seu amor chorando se ...  celebratory  \n",
       "20689  stori hold week eager soul calendar week day c...          sad  \n",
       "20690  john durril snuf carret memori drink don t mix...  celebratory  \n",
       "20697  chang mind long ago left think listen said lif...          sad  \n",
       "20698  start talk soon sat give tip love say good loo...  celebratory  \n",
       "20699  river river river river river life river river...          sad  \n",
       "20702  use ride bike street mile thought twice caus e...          sad  \n",
       "20707  take dinner bed love sicken infirm order fille...          sad  \n",
       "20709  told like matter matter said like time send ll...          sad  \n",
       "20726  stop cri better smile hey make day don t liste...          sad  \n",
       "20735  s song old hotel place rise place fell lost so...          sad  \n",
       "20739  morn s victori claim night s just notch carv b...          sad  \n",
       "20764  man need tit suckl day m sure leg just buckl g...          sad  \n",
       "20776  purpl dusk twilight time steal meadow heart hi...          sad  \n",
       "20780  sonata sonata hear haunt theme begin dream lin...          sad  \n",
       "20788  sajd mein yun hi jhukta hoon tum pe hi aa ke r...  celebratory  \n",
       "20797  e sei que eu sou bonita e gostosa e sei que vo...  celebratory  \n",
       "20800  young boy use come night wait window just beg ...          sad  \n",
       "20851  s human wonder s anim s anim run rock instead ...          sad  \n",
       "20875  bring flower miseri don t want live day haunt ...          sad  \n",
       "20885  ê o amor o camaleão se apaixonou trocou sua pe...  celebratory  \n",
       "20890  sun shine won t hide sun shine won t hide sun ...          sad  \n",
       "20896  ba pra mim baiana pra mim ar pra mim água pra ...  celebratory  \n",
       "20897  鐵柺李 望酒影醉看人間 塵世太多苦痛 漢鍾離 我輕搖蒲扇別憂愁 生死掌握手中 呂洞賓 揮神劍...          sad  \n",
       "20900  acquaint strike chord broke old guitar couldn ...          sad  \n",
       "20922  ve ledg year ve lost night sit car ve tri leav...          sad  \n",
       "\n",
       "[2728 rows x 4 columns]"
      ]
     },
     "execution_count": 9,
     "metadata": {},
     "output_type": "execute_result"
    }
   ],
   "source": [
    "celebratory_sad = df_lyrics.loc[(df_lyrics['new_mood'] == 'celebratory') | (df_lyrics['new_mood'] == 'sad')]\n",
    "celebratory_sad"
   ]
  },
  {
   "cell_type": "markdown",
   "metadata": {},
   "source": [
    "## Bag of Words"
   ]
  },
  {
   "cell_type": "markdown",
   "metadata": {},
   "source": [
    "convert all 'cleaned lyrics' into a bag of words representation"
   ]
  },
  {
   "cell_type": "code",
   "execution_count": 106,
   "metadata": {},
   "outputs": [
    {
     "data": {
      "text/plain": [
       "(2728, 19056)"
      ]
     },
     "execution_count": 106,
     "metadata": {},
     "output_type": "execute_result"
    }
   ],
   "source": [
    "from sklearn.feature_extraction.text import CountVectorizer\n",
    "count_vect = CountVectorizer()\n",
    "bag_of_words = count_vect.fit_transform(celebratory_sad['cleaned_lyrics'])\n",
    "bag_of_words.shape"
   ]
  },
  {
   "cell_type": "markdown",
   "metadata": {},
   "source": [
    "Classification:\n",
    "I'll use different classifiers and compare the results. Since the data is not balanced, I will not use ```accuracy_score``` to check the accuracy of the classifer"
   ]
  },
  {
   "cell_type": "code",
   "execution_count": 107,
   "metadata": {},
   "outputs": [
    {
     "name": "stdout",
     "output_type": "stream",
     "text": [
      "K Nearest Neighbors\n",
      "Confusion matrix:\n",
      " [[ 86 209]\n",
      " [  9 242]]\n",
      "Classification report:\n",
      "              precision    recall  f1-score   support\n",
      "\n",
      "celebratory       0.91      0.29      0.44       295\n",
      "        sad       0.54      0.96      0.69       251\n",
      "\n",
      "avg / total       0.74      0.60      0.56       546\n",
      "\n",
      "\n",
      "\n",
      "\n",
      "Logistic Regression\n",
      "Confusion matrix:\n",
      " [[225  70]\n",
      " [ 57 194]]\n",
      "Classification report:\n",
      "              precision    recall  f1-score   support\n",
      "\n",
      "celebratory       0.80      0.76      0.78       295\n",
      "        sad       0.73      0.77      0.75       251\n",
      "\n",
      "avg / total       0.77      0.77      0.77       546\n",
      "\n",
      "\n",
      "\n",
      "\n",
      "SVC\n",
      "Confusion matrix:\n",
      " [[162 133]\n",
      " [ 16 235]]\n",
      "Classification report:\n",
      "              precision    recall  f1-score   support\n",
      "\n",
      "celebratory       0.91      0.55      0.68       295\n",
      "        sad       0.64      0.94      0.76       251\n",
      "\n",
      "avg / total       0.79      0.73      0.72       546\n",
      "\n",
      "\n",
      "\n",
      "\n",
      "Random Forest\n",
      "Confusion matrix:\n",
      " [[252  43]\n",
      " [ 91 160]]\n",
      "Classification report:\n",
      "              precision    recall  f1-score   support\n",
      "\n",
      "celebratory       0.73      0.85      0.79       295\n",
      "        sad       0.79      0.64      0.70       251\n",
      "\n",
      "avg / total       0.76      0.75      0.75       546\n",
      "\n",
      "\n",
      "\n",
      "\n"
     ]
    }
   ],
   "source": [
    "X = bag_of_words\n",
    "y = celebratory_sad['new_mood']\n",
    "X_train, X_test, y_train, y_test = cross_validation.train_test_split(X,y,test_size=0.2, random_state = 101)\n",
    "names = ['K Nearest Neighbors', 'Logistic Regression','SVC','Random Forest']\n",
    "classifiers = [KNeighborsClassifier(n_neighbors = 10), LogisticRegression(), SVC(), RandomForestClassifier()]\n",
    "for name, clf in zip(names,classifiers):\n",
    "    clf.fit(X_train,y_train)\n",
    "    predictions = clf.predict(X_test)\n",
    "    print(name)\n",
    "    print('Confusion matrix:\\n',metrics.confusion_matrix(y_test, predictions))\n",
    "    print('Classification report:\\n',metrics.classification_report(list(y_test),list(predictions)))\n",
    "    print('\\n'+'\\n')"
   ]
  },
  {
   "cell_type": "markdown",
   "metadata": {},
   "source": [
    "From here, SVC yields the highest precision. I'll apply the same stuffs for TF-IDF"
   ]
  },
  {
   "cell_type": "markdown",
   "metadata": {},
   "source": [
    "## TF - IDF"
   ]
  },
  {
   "cell_type": "code",
   "execution_count": 12,
   "metadata": {},
   "outputs": [
    {
     "data": {
      "text/plain": [
       "(2728, 19056)"
      ]
     },
     "execution_count": 12,
     "metadata": {},
     "output_type": "execute_result"
    }
   ],
   "source": [
    "from sklearn.feature_extraction.text import TfidfVectorizer\n",
    "tf_idf_vect = TfidfVectorizer()\n",
    "tf_idf = tf_idf_vect.fit_transform(celebratory_sad['cleaned_lyrics'])\n",
    "tf_idf.shape"
   ]
  },
  {
   "cell_type": "code",
   "execution_count": 110,
   "metadata": {
    "scrolled": true
   },
   "outputs": [
    {
     "name": "stdout",
     "output_type": "stream",
     "text": [
      "K Nearest Neighbors\n",
      "Confusion matrix:\n",
      " [[252  49]\n",
      " [121 124]]\n",
      "Classification report:\n",
      "              precision    recall  f1-score   support\n",
      "\n",
      "celebratory       0.68      0.84      0.75       301\n",
      "        sad       0.72      0.51      0.59       245\n",
      "\n",
      "avg / total       0.69      0.69      0.68       546\n",
      "\n",
      "\n",
      "\n",
      "\n",
      "Logistic Regression\n",
      "Confusion matrix:\n",
      " [[222  79]\n",
      " [ 57 188]]\n",
      "Classification report:\n",
      "              precision    recall  f1-score   support\n",
      "\n",
      "celebratory       0.80      0.74      0.77       301\n",
      "        sad       0.70      0.77      0.73       245\n",
      "\n",
      "avg / total       0.75      0.75      0.75       546\n",
      "\n",
      "\n",
      "\n",
      "\n",
      "SVC\n",
      "Confusion matrix:\n",
      " [[301   0]\n",
      " [245   0]]\n",
      "Classification report:\n",
      "              precision    recall  f1-score   support\n",
      "\n",
      "celebratory       0.55      1.00      0.71       301\n",
      "        sad       0.00      0.00      0.00       245\n",
      "\n",
      "avg / total       0.30      0.55      0.39       546\n",
      "\n",
      "\n",
      "\n",
      "\n"
     ]
    },
    {
     "name": "stderr",
     "output_type": "stream",
     "text": [
      "/home/antran96/.local/lib/python3.6/site-packages/sklearn/metrics/classification.py:1135: UndefinedMetricWarning: Precision and F-score are ill-defined and being set to 0.0 in labels with no predicted samples.\n",
      "  'precision', 'predicted', average, warn_for)\n"
     ]
    },
    {
     "name": "stdout",
     "output_type": "stream",
     "text": [
      "Random Forest\n",
      "Confusion matrix:\n",
      " [[232  69]\n",
      " [ 91 154]]\n",
      "Classification report:\n",
      "              precision    recall  f1-score   support\n",
      "\n",
      "celebratory       0.72      0.77      0.74       301\n",
      "        sad       0.69      0.63      0.66       245\n",
      "\n",
      "avg / total       0.71      0.71      0.71       546\n",
      "\n",
      "\n",
      "\n",
      "\n"
     ]
    }
   ],
   "source": [
    "X = tf_idf\n",
    "y = celebratory_sad['new_mood']\n",
    "X_train, X_test, y_train, y_test = cross_validation.train_test_split(X,y,test_size=0.2, random_state = 42)\n",
    "names = ['K Nearest Neighbors', 'Logistic Regression','SVC','Random Forest']\n",
    "classifiers = [KNeighborsClassifier(n_neighbors = 10), LogisticRegression(), SVC(), RandomForestClassifier()]\n",
    "for name, clf in zip(names,classifiers):\n",
    "    clf.fit(X_train,y_train)\n",
    "    predictions = clf.predict(X_test)\n",
    "    print(name)\n",
    "    print('Confusion matrix:\\n',metrics.confusion_matrix(y_test, predictions))\n",
    "    print('Classification report:\\n',metrics.classification_report(list(y_test),list(predictions)))\n",
    "    print('\\n'+'\\n')"
   ]
  },
  {
   "cell_type": "markdown",
   "metadata": {},
   "source": [
    "The result is very different for each of the classifier I used for bag_of_words. SVC yields the lowest precision while Logistic Regession has the highest score. I was a little confused since all of the scores for 'sad' in SVC was 0. Not sure why..."
   ]
  },
  {
   "cell_type": "markdown",
   "metadata": {},
   "source": [
    "## Doc2Vec\n"
   ]
  },
  {
   "cell_type": "code",
   "execution_count": 13,
   "metadata": {},
   "outputs": [],
   "source": [
    "from gensim.models.doc2vec import Doc2Vec"
   ]
  },
  {
   "cell_type": "markdown",
   "metadata": {},
   "source": [
    "Now I'll create 4 files: train-celebratory.txt, test-celebratory.txt, train-sad.txt, test-sad.txt,"
   ]
  },
  {
   "cell_type": "code",
   "execution_count": 112,
   "metadata": {},
   "outputs": [],
   "source": [
    "from sklearn.utils import shuffle\n",
    "\n",
    "def create_train_test(file,X,y):\n",
    "    shuffle(file) #randomize the data\n",
    "    X_train, X_test, y_train, y_test = cross_validation.train_test_split(X,y,test_size=0.5, random_state = 42)\n",
    "    return X_train, X_test\n",
    "\n",
    "#train-celebratory.txt, test-celebratory.txt\n",
    "y1 = celebratory_sad.loc[(celebratory_sad['new_mood'] == 'celebratory'),'new_mood']\n",
    "X1 = celebratory_sad.loc[(celebratory_sad['new_mood'] == 'celebratory'),'lyrics_features']\n",
    "X_train1, X_test1 = create_train_test(df_lyrics,X1,y1)    \n",
    "X_train1.to_csv('train-celebratory.txt', sep='\\n', index=False)\n",
    "X_test1.to_csv('test-celebratory.txt', sep='\\n', index=False)\n",
    "\n",
    "#train-sad.txt, test-sad.txt\n",
    "y2 = celebratory_sad.loc[(celebratory_sad['new_mood'] == 'sad'),'new_mood']\n",
    "X2 = celebratory_sad.loc[(celebratory_sad['new_mood'] == 'sad'),'lyrics_features']\n",
    "X_train2, X_test2 = create_train_test(df_lyrics,X2,y2)    \n",
    "X_train2.to_csv('train-sad.txt', sep='\\n', index=False)\n",
    "X_test2.to_csv('test-sad.txt', sep='\\n', index=False)\n"
   ]
  },
  {
   "cell_type": "code",
   "execution_count": 15,
   "metadata": {},
   "outputs": [
    {
     "name": "stdout",
     "output_type": "stream",
     "text": [
      "739 624 740 625\n"
     ]
    }
   ],
   "source": [
    "print(X_train1.count(), X_train2.count(), X_test1.count(), X_test2.count())"
   ]
  },
  {
   "cell_type": "code",
   "execution_count": 16,
   "metadata": {},
   "outputs": [],
   "source": [
    "%run Doc2VecHelperFunctions.ipynb"
   ]
  },
  {
   "cell_type": "markdown",
   "metadata": {},
   "source": [
    "read the documents using TaggedLineDocument"
   ]
  },
  {
   "cell_type": "code",
   "execution_count": 17,
   "metadata": {},
   "outputs": [],
   "source": [
    "sources = {'test-celebratory.txt':'TEST_CELEBRATORY', 'test-sad.txt':'TEST_SAD', 'train-celebratory.txt':'TRAIN_CELEBRATORY', 'train-pos.txt':'TRAIN_SAD'}\n",
    "sentences = TaggedLineDocument(sources)"
   ]
  },
  {
   "cell_type": "markdown",
   "metadata": {},
   "source": [
    "build and train the model"
   ]
  },
  {
   "cell_type": "code",
   "execution_count": 18,
   "metadata": {},
   "outputs": [],
   "source": [
    "model = Doc2Vec(model_min_count=1, model_window=10, model_vector_size=100, model_sample=1e-4, model_negative=5, model_workers=7)\n",
    "\n",
    "model.build_vocab(sentences.to_array())\n"
   ]
  },
  {
   "cell_type": "code",
   "execution_count": 19,
   "metadata": {},
   "outputs": [],
   "source": [
    "model_epoch_range=10\n",
    "for epoch in range(model_epoch_range):\n",
    "    model.train(sentences.sentences_perm(), total_examples=model.corpus_count, epochs=model.epochs)\n"
   ]
  },
  {
   "cell_type": "code",
   "execution_count": 20,
   "metadata": {},
   "outputs": [],
   "source": [
    "model.save('./song_lyrics.d2v')"
   ]
  },
  {
   "cell_type": "code",
   "execution_count": 21,
   "metadata": {},
   "outputs": [],
   "source": [
    "model = Doc2Vec.load('./song_lyrics.d2v')"
   ]
  },
  {
   "cell_type": "code",
   "execution_count": 22,
   "metadata": {},
   "outputs": [
    {
     "data": {
      "text/plain": [
       "[('great', 0.6851962804794312),\n",
       " ('fine', 0.6468544602394104),\n",
       " ('decent', 0.6341749429702759),\n",
       " ('cool', 0.6161535978317261),\n",
       " ('bad', 0.6024141907691956),\n",
       " ('nice', 0.5952433347702026),\n",
       " ('terrific', 0.57065749168396),\n",
       " ('funny', 0.5624045133590698),\n",
       " ('strong', 0.5556851625442505),\n",
       " ('wonderful', 0.5504271984100342)]"
      ]
     },
     "execution_count": 22,
     "metadata": {},
     "output_type": "execute_result"
    }
   ],
   "source": [
    "model.wv.most_similar('good')"
   ]
  },
  {
   "cell_type": "code",
   "execution_count": 25,
   "metadata": {},
   "outputs": [
    {
     "name": "stdout",
     "output_type": "stream",
     "text": [
      "(100,)\n"
     ]
    }
   ],
   "source": [
    "model['TRAIN_CELEBRATORY_0']\n",
    "print(model['TRAIN_CELEBRATORY_0'].shape)"
   ]
  },
  {
   "cell_type": "markdown",
   "metadata": {},
   "source": [
    "## Classifying Sentiments\n",
    "\n",
    "### Training Vectors\n",
    "\n",
    "train_celebratory, train_sad, test_celebratory, test_sad= 739, 624, 740, 625\n",
    "\n"
   ]
  },
  {
   "cell_type": "code",
   "execution_count": 28,
   "metadata": {},
   "outputs": [],
   "source": [
    "train_arrays = np.zeros((1363, 100))\n",
    "train_labels = np.zeros(1363)\n",
    "\n",
    "for i in range(739):\n",
    "    prefix_train_celebratory = 'TRAIN_CELEBRATORY_' + str(i)\n",
    "    train_arrays[i] = model[prefix_train_celebratory]\n",
    "    train_labels[i] = 1\n",
    "\n",
    "for i in range(624):\n",
    "    prefix_train_sad = 'TRAIN_SAD_' + str(i)\n",
    "    train_arrays[739 + i] = model[prefix_train_sad]\n",
    "    train_labels[739 + i] = 0"
   ]
  },
  {
   "cell_type": "markdown",
   "metadata": {},
   "source": [
    "## Testing Vectors"
   ]
  },
  {
   "cell_type": "code",
   "execution_count": 30,
   "metadata": {},
   "outputs": [],
   "source": [
    "test_arrays = np.zeros((1365, 100))\n",
    "test_labels = np.zeros(1365)\n",
    "\n",
    "for i in range(740):\n",
    "    prefix_test_celebratory = 'TEST_CELEBRATORY_' + str(i)\n",
    "    test_arrays[i] = model[prefix_test_celebratory]\n",
    "    test_labels[i] = 1\n",
    "\n",
    "for i in range(625):\n",
    "    prefix_test_sad = 'TEST_SAD_' + str(i)\n",
    "    test_arrays[740 + i] = model[prefix_test_sad]\n",
    "    test_labels[740 + i] = 0"
   ]
  },
  {
   "cell_type": "code",
   "execution_count": 113,
   "metadata": {},
   "outputs": [
    {
     "name": "stdout",
     "output_type": "stream",
     "text": [
      "K Nearest Neighbors\n",
      "Confusion matrix:\n",
      " [[ 79 546]\n",
      " [ 32 708]]\n",
      "Classification report:\n",
      "              precision    recall  f1-score   support\n",
      "\n",
      "        0.0       0.71      0.13      0.21       625\n",
      "        1.0       0.56      0.96      0.71       740\n",
      "\n",
      "avg / total       0.63      0.58      0.48      1365\n",
      "\n",
      "\n",
      "\n",
      "\n",
      "Logistic Regression\n",
      "Confusion matrix:\n",
      " [[ 15 610]\n",
      " [ 13 727]]\n",
      "Classification report:\n",
      "              precision    recall  f1-score   support\n",
      "\n",
      "        0.0       0.54      0.02      0.05       625\n",
      "        1.0       0.54      0.98      0.70       740\n",
      "\n",
      "avg / total       0.54      0.54      0.40      1365\n",
      "\n",
      "\n",
      "\n",
      "\n",
      "SVC\n",
      "Confusion matrix:\n",
      " [[ 23 602]\n",
      " [  9 731]]\n",
      "Classification report:\n",
      "              precision    recall  f1-score   support\n",
      "\n",
      "        0.0       0.72      0.04      0.07       625\n",
      "        1.0       0.55      0.99      0.71       740\n",
      "\n",
      "avg / total       0.63      0.55      0.41      1365\n",
      "\n",
      "\n",
      "\n",
      "\n",
      "Random Forest\n",
      "Confusion matrix:\n",
      " [[118 507]\n",
      " [ 38 702]]\n",
      "Classification report:\n",
      "              precision    recall  f1-score   support\n",
      "\n",
      "        0.0       0.76      0.19      0.30       625\n",
      "        1.0       0.58      0.95      0.72       740\n",
      "\n",
      "avg / total       0.66      0.60      0.53      1365\n",
      "\n",
      "\n",
      "\n",
      "\n",
      "Random Forest(balanced)\n",
      "Confusion matrix:\n",
      " [[112 513]\n",
      " [ 42 698]]\n",
      "Classification report:\n",
      "              precision    recall  f1-score   support\n",
      "\n",
      "        0.0       0.73      0.18      0.29       625\n",
      "        1.0       0.58      0.94      0.72       740\n",
      "\n",
      "avg / total       0.65      0.59      0.52      1365\n",
      "\n",
      "\n",
      "\n",
      "\n"
     ]
    }
   ],
   "source": [
    "names = ['K Nearest Neighbors', 'Logistic Regression','SVC','Random Forest','Random Forest(balanced)']\n",
    "classifiers = [KNeighborsClassifier(n_neighbors = 10), LogisticRegression(), SVC(), RandomForestClassifier(),RandomForestClassifier(class_weight='balanced')]\n",
    "for name, clf in zip(names,classifiers):\n",
    "    clf.fit(train_arrays,train_labels)\n",
    "    predictions = clf.predict(test_arrays)\n",
    "    print(name)\n",
    "    print('Confusion matrix:\\n',metrics.confusion_matrix(test_labels, predictions))\n",
    "    print('Classification report:\\n',metrics.classification_report(list(test_labels),list(predictions)))\n",
    "    print('\\n\\n')"
   ]
  },
  {
   "cell_type": "markdown",
   "metadata": {},
   "source": [
    "Random Forest yields the highest precision in Doc2Vec, slightly higher than when I set class_weight to balanced. So for 3 methods, Bag of Words yields the highest precision"
   ]
  },
  {
   "cell_type": "markdown",
   "metadata": {},
   "source": [
    "## K Mean Clustering plots"
   ]
  },
  {
   "cell_type": "code",
   "execution_count": 122,
   "metadata": {},
   "outputs": [
    {
     "name": "stdout",
     "output_type": "stream",
     "text": [
      "bag_of_words\n"
     ]
    },
    {
     "data": {
      "image/png": "[encoded data removed]",
      "text/plain": [
       "<matplotlib.figure.Figure at 0x7f5be36f0be0>"
      ]
     },
     "metadata": {},
     "output_type": "display_data"
    },
    {
     "name": "stdout",
     "output_type": "stream",
     "text": [
      "tf_idf\n"
     ]
    },
    {
     "data": {
      "image/png": "[encoded data removed]",
      "text/plain": [
       "<matplotlib.figure.Figure at 0x7f5be3a84438>"
      ]
     },
     "metadata": {},
     "output_type": "display_data"
    }
   ],
   "source": [
    "import matplotlib.pyplot as plt\n",
    "from sklearn.cluster import KMeans\n",
    "from sklearn.decomposition import TruncatedSVD\n",
    "\n",
    "\n",
    "svd = TruncatedSVD(n_components=2)\n",
    "kmeans = KMeans(n_clusters = 2, random_state = 0)\n",
    "methods = [bag_of_words, tf_idf]\n",
    "names = ['bag_of_words', 'tf_idf']\n",
    "for name,method in zip(names,methods):\n",
    "    X_2d = svd.fit_transform(method)\n",
    "    X_clustered = kmeans.fit_predict(X_2d)\n",
    "    print(name)\n",
    "    plt.scatter(X_2d[:, 0], X_2d[:, 1], c=X_clustered)\n",
    "    plt.show()\n",
    "    "
   ]
  },
  {
   "cell_type": "markdown",
   "metadata": {},
   "source": [
    "Not sure if I get this right but the scales for bag_of_words and tf_idf are different. And I couldn't determine the right legend for each plot (yellow/purple -> sad/celebratory???)"
   ]
  },
  {
   "cell_type": "code",
   "execution_count": null,
   "metadata": {},
   "outputs": [],
   "source": []
  }
 ],
 "metadata": {
  "kernelspec": {
   "display_name": "Python 3",
   "language": "python",
   "name": "python3"
  },
  "language_info": {
   "codemirror_mode": {
    "name": "ipython",
    "version": 3
   },
   "file_extension": ".py",
   "mimetype": "text/x-python",
   "name": "python",
   "nbconvert_exporter": "python",
   "pygments_lexer": "ipython3",
   "version": "3.6.3"
  }
 },
 "nbformat": 4,
 "nbformat_minor": 2
}
